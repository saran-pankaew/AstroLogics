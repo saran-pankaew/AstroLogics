{
 "cells": [
  {
   "cell_type": "markdown",
   "id": "e6bdce41-e0fb-42f8-b909-cd75bd4b4f87",
   "metadata": {},
   "source": [
    "# Title"
   ]
  },
  {
   "cell_type": "code",
   "execution_count": 1,
   "id": "7f4289aa-47a2-4a24-9d36-060898300372",
   "metadata": {
    "execution": {
     "iopub.execute_input": "2025-08-05T14:18:35.010363Z",
     "iopub.status.busy": "2025-08-05T14:18:35.010186Z",
     "iopub.status.idle": "2025-08-05T14:18:35.182871Z",
     "shell.execute_reply": "2025-08-05T14:18:35.181713Z",
     "shell.execute_reply.started": "2025-08-05T14:18:35.010349Z"
    }
   },
   "outputs": [
    {
     "ename": "ModuleNotFoundError",
     "evalue": "No module named 'astrologics'",
     "output_type": "error",
     "traceback": [
      "\u001b[31m---------------------------------------------------------------------------\u001b[39m",
      "\u001b[31mModuleNotFoundError\u001b[39m                       Traceback (most recent call last)",
      "\u001b[36mCell\u001b[39m\u001b[36m \u001b[39m\u001b[32mIn[1]\u001b[39m\u001b[32m, line 1\u001b[39m\n\u001b[32m----> \u001b[39m\u001b[32m1\u001b[39m \u001b[38;5;28;01mimport\u001b[39;00m\u001b[38;5;250m \u001b[39m\u001b[34;01mastrologics\u001b[39;00m\n",
      "\u001b[31mModuleNotFoundError\u001b[39m: No module named 'astrologics'"
     ]
    }
   ],
   "source": [
    "import astrologics"
   ]
  }
 ],
 "metadata": {
  "kernelspec": {
   "display_name": "Python 3 (ipykernel)",
   "language": "python",
   "name": "python3"
  },
  "language_info": {
   "codemirror_mode": {
    "name": "ipython",
    "version": 3
   },
   "file_extension": ".py",
   "mimetype": "text/x-python",
   "name": "python",
   "nbconvert_exporter": "python",
   "pygments_lexer": "ipython3",
   "version": "3.13.5"
  }
 },
 "nbformat": 4,
 "nbformat_minor": 5
}
