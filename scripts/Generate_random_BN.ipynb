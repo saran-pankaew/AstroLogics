{
 "cells": [
  {
   "cell_type": "code",
   "execution_count": 1,
   "id": "2ff9aeca",
   "metadata": {},
   "outputs": [],
   "source": [
    "import random\n",
    "import sys"
   ]
  },
  {
   "cell_type": "code",
   "execution_count": 2,
   "id": "4085effe",
   "metadata": {},
   "outputs": [],
   "source": [
    "def generate_random_boolean_function(node, all_nodes, max_inputs=3):\n",
    "    num_inputs = random.randint(1, min(max_inputs, len(all_nodes)))\n",
    "    input_nodes = random.sample([n for n in all_nodes if n != node], num_inputs)\n",
    "\n",
    "    expression_parts = []\n",
    "    for input_node in input_nodes:\n",
    "        operator = random.choice([\"\", \"!\", \"\"])\n",
    "        expression_parts.append(f\"{operator}{input_node}\")\n",
    "\n",
    "    # Combine with AND/OR randomly\n",
    "    while len(expression_parts) > 1:\n",
    "        op = random.choice([\" & \", \" | \"])\n",
    "        a = expression_parts.pop()\n",
    "        b = expression_parts.pop()\n",
    "        expression_parts.append(f\"({a}{op}{b})\")\n",
    "\n",
    "    return expression_parts[0]\n",
    "\n",
    "def generate_boolean_model(num_nodes, filename=\"random_model.bnet\"):\n",
    "    nodes = [f\"x{i+1}\" for i in range(num_nodes)]\n",
    "\n",
    "    with open(filename, \"w\") as f:\n",
    "        for node in nodes:\n",
    "            boolean_function = generate_random_boolean_function(node, nodes)\n",
    "            f.write(f\"{node} = {boolean_function}\\n\")\n",
    "\n",
    "    print(f\"Boolean model written to {filename}\")"
   ]
  },
  {
   "cell_type": "code",
   "execution_count": 4,
   "id": "39de5354",
   "metadata": {},
   "outputs": [
    {
     "name": "stdout",
     "output_type": "stream",
     "text": [
      "Boolean model written to random_model.bnet\n"
     ]
    }
   ],
   "source": [
    "generate_boolean_model(10)  # Example with 10 nodes"
   ]
  }
 ],
 "metadata": {
  "kernelspec": {
   "display_name": "astrologics",
   "language": "python",
   "name": "python3"
  },
  "language_info": {
   "codemirror_mode": {
    "name": "ipython",
    "version": 3
   },
   "file_extension": ".py",
   "mimetype": "text/x-python",
   "name": "python",
   "nbconvert_exporter": "python",
   "pygments_lexer": "ipython3",
   "version": "3.12.9"
  }
 },
 "nbformat": 4,
 "nbformat_minor": 5
}
